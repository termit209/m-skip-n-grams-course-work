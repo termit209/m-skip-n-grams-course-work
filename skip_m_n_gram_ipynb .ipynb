{
  "nbformat": 4,
  "nbformat_minor": 0,
  "metadata": {
    "colab": {
      "name": "skip-m-n-gram.ipynb\"",
      "provenance": [],
      "collapsed_sections": [],
      "toc_visible": true
    },
    "kernelspec": {
      "display_name": "Python 3",
      "name": "python3"
    }
  },
  "cells": [
    {
      "cell_type": "markdown",
      "metadata": {
        "id": "FqT9VjvWKbkR"
      },
      "source": [
        "# m-skip-n-grams course work"
      ]
    },
    {
      "cell_type": "markdown",
      "metadata": {
        "id": "wFsc2s2PKbYB"
      },
      "source": [
        "Dataset taken from [Sentiment Analysis in Russian](https://www.kaggle.com/c/sentiment-analysis-in-russian) Kaggle competition."
      ]
    },
    {
      "cell_type": "markdown",
      "metadata": {
        "id": "ysazfV9fdnhO"
      },
      "source": [
        "Unzip data and read it"
      ]
    },
    {
      "cell_type": "code",
      "metadata": {
        "colab": {
          "base_uri": "https://localhost:8080/"
        },
        "id": "sE2RSJhYAM28",
        "outputId": "ab7432cd-7570-406f-d4af-35ce4ea59eaf"
      },
      "source": [
        "!unzip /content/drive/MyDrive/data/sent/sentiment-analysis-in-russian.zip"
      ],
      "execution_count": 3,
      "outputs": [
        {
          "output_type": "stream",
          "text": [
            "Archive:  /content/drive/MyDrive/data/sent/sentiment-analysis-in-russian.zip\n",
            "  inflating: sample.csv              \n",
            "  inflating: test.json               \n",
            "  inflating: train.json              \n"
          ],
          "name": "stdout"
        }
      ]
    },
    {
      "cell_type": "code",
      "metadata": {
        "id": "RV4dIYACn1vK"
      },
      "source": [
        "import json"
      ],
      "execution_count": 4,
      "outputs": []
    },
    {
      "cell_type": "code",
      "metadata": {
        "id": "FcXxCiSrbp2n"
      },
      "source": [
        "with open('/content/train.json') as read_file:\n",
        "    data = json.load(read_file)"
      ],
      "execution_count": 5,
      "outputs": []
    },
    {
      "cell_type": "markdown",
      "metadata": {
        "id": "Hwc5ve5Odta4"
      },
      "source": [
        "example of data + number text in classes"
      ]
    },
    {
      "cell_type": "code",
      "metadata": {
        "colab": {
          "base_uri": "https://localhost:8080/"
        },
        "id": "_-79eadTZebR",
        "outputId": "baadc667-b63b-48dd-e106-7452e85dec83"
      },
      "source": [
        "print('all', len(data))\n",
        "count_neg = 0\n",
        "count_pos = 0\n",
        "for i in data:\n",
        "    if i['sentiment'] == 'negative':\n",
        "        count_neg += 1\n",
        "    elif i['sentiment'] == 'positive':\n",
        "        count_pos += 1\n",
        "print('neg', count_neg)\n",
        "print('pos',count_pos)\n",
        "print('neg + pos: ', count_pos + count_neg)"
      ],
      "execution_count": 6,
      "outputs": [
        {
          "output_type": "stream",
          "text": [
            "all 8263\n",
            "neg 1434\n",
            "pos 2795\n",
            "neg + pos:  4229\n"
          ],
          "name": "stdout"
        }
      ]
    },
    {
      "cell_type": "code",
      "metadata": {
        "colab": {
          "base_uri": "https://localhost:8080/"
        },
        "id": "hKPEHVIRb8qs",
        "outputId": "58499b34-6f87-4353-bf9e-ef2bd67d0759"
      },
      "source": [
        "data[0]"
      ],
      "execution_count": 7,
      "outputs": [
        {
          "output_type": "execute_result",
          "data": {
            "text/plain": [
              "{'id': 1945,\n",
              " 'sentiment': 'negative',\n",
              " 'text': 'Досудебное расследование по факту покупки ЕНПФ пакета облигаций ТОО \"Бузгул Аурум\" было начато по инициативе Национального банка РК, сообщил директор департамента защиты прав потребителей и финансовых услуг Нацбанка Казахстана Александр Терентьев.\\n\"Основанием для досудебного расследования стало обращение Национального банка, письмо от 25 ноября 2016 года. Было обращение Национального банка в правоохранительные органы. Нам эта сделка показалась сомнительной, недостаточно корректной, поэтому Нацбанк 25 ноября 2016 года обратился в правоохранительные органы. Это то, что я могу озвучить на сегодня. Идёт следствие, проводится проверка\", – сказал Терентьев.\\n28 декабря в Нацбанке заявили, что не знают, что стало основанием для проверки ЕНПФ.\\n23 декабря факт проведения проверки в АО \"Единый накопительный пенсионный фонд\" подтвердился. Пресс-служба Национального банка сообщила, что проверку проводят по операциям, совершённым АО \"ЕНПФ\" в отношении инвестирования собственных активов.\\nТакже в финрегуляторе сообщали, что по сделке ЕНПФ на сумму в пять млрд заведено уголовное дело. В Нацбанке заверяют, что всё происходящее не затрагивает пенсионных накоплений казахстанцев.\\nЕсли вы нашли ошибку в тексте, выделите ее мышью и нажмите Ctrl+Enter\\n'}"
            ]
          },
          "metadata": {
            "tags": []
          },
          "execution_count": 7
        }
      ]
    },
    {
      "cell_type": "markdown",
      "metadata": {
        "id": "C2emFiuj6iR9"
      },
      "source": [
        "Import nltk, download stopwords and puctiation."
      ]
    },
    {
      "cell_type": "code",
      "metadata": {
        "id": "k3serXIRuSZq",
        "colab": {
          "base_uri": "https://localhost:8080/"
        },
        "outputId": "5b073f3c-a034-411b-cdcd-ffe903ea11c2"
      },
      "source": [
        "import nltk\n",
        "nltk.download('stopwords')\n",
        "nltk.download('punkt')\n",
        "from nltk.corpus import stopwords\n",
        "stop_words = set(stopwords.words(\"russian\"))\n"
      ],
      "execution_count": 8,
      "outputs": [
        {
          "output_type": "stream",
          "text": [
            "[nltk_data] Downloading package stopwords to /root/nltk_data...\n",
            "[nltk_data]   Unzipping corpora/stopwords.zip.\n",
            "[nltk_data] Downloading package punkt to /root/nltk_data...\n",
            "[nltk_data]   Unzipping tokenizers/punkt.zip.\n"
          ],
          "name": "stdout"
        }
      ]
    },
    {
      "cell_type": "markdown",
      "metadata": {
        "id": "bZETW7YX7Yif"
      },
      "source": [
        "install pymorphy2 for lemmatize"
      ]
    },
    {
      "cell_type": "code",
      "metadata": {
        "id": "bfY7rjW5zUgL",
        "colab": {
          "base_uri": "https://localhost:8080/"
        },
        "outputId": "389feeee-76ee-45a7-cfd8-25780c6d47de"
      },
      "source": [
        "!pip install pymorphy2"
      ],
      "execution_count": 9,
      "outputs": [
        {
          "output_type": "stream",
          "text": [
            "Collecting pymorphy2\n",
            "\u001b[?25l  Downloading https://files.pythonhosted.org/packages/07/57/b2ff2fae3376d4f3c697b9886b64a54b476e1a332c67eee9f88e7f1ae8c9/pymorphy2-0.9.1-py3-none-any.whl (55kB)\n",
            "\u001b[K     |████████████████████████████████| 61kB 3.4MB/s \n",
            "\u001b[?25hCollecting pymorphy2-dicts-ru<3.0,>=2.4\n",
            "\u001b[?25l  Downloading https://files.pythonhosted.org/packages/3a/79/bea0021eeb7eeefde22ef9e96badf174068a2dd20264b9a378f2be1cdd9e/pymorphy2_dicts_ru-2.4.417127.4579844-py2.py3-none-any.whl (8.2MB)\n",
            "\u001b[K     |████████████████████████████████| 8.2MB 6.7MB/s \n",
            "\u001b[?25hRequirement already satisfied: docopt>=0.6 in /usr/local/lib/python3.6/dist-packages (from pymorphy2) (0.6.2)\n",
            "Collecting dawg-python>=0.7.1\n",
            "  Downloading https://files.pythonhosted.org/packages/6a/84/ff1ce2071d4c650ec85745766c0047ccc3b5036f1d03559fd46bb38b5eeb/DAWG_Python-0.7.2-py2.py3-none-any.whl\n",
            "Installing collected packages: pymorphy2-dicts-ru, dawg-python, pymorphy2\n",
            "Successfully installed dawg-python-0.7.2 pymorphy2-0.9.1 pymorphy2-dicts-ru-2.4.417127.4579844\n"
          ],
          "name": "stdout"
        }
      ]
    },
    {
      "cell_type": "markdown",
      "metadata": {
        "id": "S_h3LjCQ-8IH"
      },
      "source": [
        "Load positive/negative token from [AIgent](https://github.com/aigents/aigents-java)"
      ]
    },
    {
      "cell_type": "code",
      "metadata": {
        "id": "bYr9bpTfeunk"
      },
      "source": [
        "pos_path = '/content/drive/MyDrive/data/sent/lexicon_positive_russian.txt'\n",
        "neg_path = '/content/drive/MyDrive/data/sent/lexicon_negative_russian.txt'"
      ],
      "execution_count": 10,
      "outputs": []
    },
    {
      "cell_type": "code",
      "metadata": {
        "id": "PEI5mYSxfKCA",
        "colab": {
          "base_uri": "https://localhost:8080/"
        },
        "outputId": "20b3aaa2-644f-4ef3-a7e0-9b0e930f1800"
      },
      "source": [
        "pos_token = []\n",
        "lenght_token = set()\n",
        "with open(pos_path) as f:\n",
        "    for line in f.readlines():\n",
        "        pos_token.append(line.strip().split(\" \"))\n",
        "        lenght_token.add(len(line.strip().split(\" \")))\n",
        "print('number positive tokens:', len(pos_token))\n",
        "print('lenghts positive tokens:', lenght_token)"
      ],
      "execution_count": 11,
      "outputs": [
        {
          "output_type": "stream",
          "text": [
            "number positive tokens: 3341\n",
            "lenghts positive tokens: {1, 2, 3, 4, 5}\n"
          ],
          "name": "stdout"
        }
      ]
    },
    {
      "cell_type": "code",
      "metadata": {
        "id": "o8pg3PORIe14",
        "colab": {
          "base_uri": "https://localhost:8080/"
        },
        "outputId": "8ce65477-b567-44cf-f90b-2c3c8b5da306"
      },
      "source": [
        "neg_token = []\n",
        "lenght_token = set()\n",
        "with open(neg_path) as f:\n",
        "    for line in f.readlines():\n",
        "        neg_token.append(line.strip().split(\" \"))\n",
        "        lenght_token.add(len(line.strip().split(\" \")))\n",
        "print('number negative tokens:', len(neg_token))\n",
        "print('lenghts negative tokens:', lenght_token)"
      ],
      "execution_count": 12,
      "outputs": [
        {
          "output_type": "stream",
          "text": [
            "number negative tokens: 9745\n",
            "lenghts negative tokens: {1, 2, 3, 4, 5}\n"
          ],
          "name": "stdout"
        }
      ]
    },
    {
      "cell_type": "markdown",
      "metadata": {
        "id": "fiLvP2d1JFwf"
      },
      "source": [
        "import libraries "
      ]
    },
    {
      "cell_type": "code",
      "metadata": {
        "id": "Au2ED6W8AMP6"
      },
      "source": [
        "from sklearn.feature_extraction.text import CountVectorizer\n",
        "import numpy as np\n",
        "import matplotlib.pyplot as plt\n",
        "from sklearn.linear_model import LogisticRegression\n",
        "from sklearn.model_selection import train_test_split\n",
        "import re\n",
        "from nltk.util import skipgrams\n",
        "from functools import partial\n",
        "from random import choice\n",
        "from sklearn.metrics import classification_report\n",
        "from pymorphy2 import MorphAnalyzer"
      ],
      "execution_count": 13,
      "outputs": []
    },
    {
      "cell_type": "markdown",
      "metadata": {
        "id": "1rqaqWD7J9jo"
      },
      "source": [
        "Create custome dictionary of ngramm for encoding based on AIgent positive/negative tokens."
      ]
    },
    {
      "cell_type": "code",
      "metadata": {
        "id": "C-iv_IsvEvVh"
      },
      "source": [
        "index = 0\n",
        "vocabulary = {}\n",
        "for token in pos_token:\n",
        "    vocabulary[' '.join(token)] = index\n",
        "    index += 1 \n",
        "for token in neg_token:\n",
        "    vocabulary[' '.join(token)] = index\n",
        "    index += 1 "
      ],
      "execution_count": 14,
      "outputs": []
    },
    {
      "cell_type": "markdown",
      "metadata": {
        "id": "adVkr2dry1xO"
      },
      "source": [
        "define m_skip_n_gramm_tokenizer which create from 1-gram to n-gram lemmatized token wirh skip m"
      ]
    },
    {
      "cell_type": "code",
      "metadata": {
        "id": "fvngqNDhkiQS"
      },
      "source": [
        "def m_skip_n_gramm_tokenizer(doc, m, n, stopwords_ru):\n",
        "    morph = MorphAnalyzer()\n",
        "    patterns = \"[A-Za-z0-9!#$%&'()*+,./:;<=>?@[\\]^_`{|}~—\\\"\\-]+\"\n",
        "    doc = re.sub(patterns, ' ', doc)\n",
        "    tokens = []\n",
        "    for token in doc.split():\n",
        "        if token and token not in stopwords_ru:\n",
        "            token = token.strip()\n",
        "            token = morph.normal_forms(token)[0]\n",
        "            \n",
        "            tokens.append(token)\n",
        "    ngrams = tokens.copy()\n",
        "    if n > 1:\n",
        "        for i in range(2, n+1):\n",
        "            ngrams += list(skipgrams(tokens, i, m))\n",
        "    return ngrams"
      ],
      "execution_count": 15,
      "outputs": []
    },
    {
      "cell_type": "code",
      "metadata": {
        "id": "C_ppUZOrPz4Y"
      },
      "source": [
        " custome_tokenizer = partial(m_skip_n_gramm_tokenizer, n=3, m=2, stopwords_ru = stopwords.words(\"russian\"))"
      ],
      "execution_count": 16,
      "outputs": []
    },
    {
      "cell_type": "markdown",
      "metadata": {
        "id": "WgE5WSmdXcnk"
      },
      "source": [
        "Takes only positive/ negative sentiments and according texts "
      ]
    },
    {
      "cell_type": "code",
      "metadata": {
        "id": "gAGEQW4AdMdY"
      },
      "source": [
        "texts = []\n",
        "sentiments = []\n",
        "for i in data:\n",
        "    if i['sentiment'] != 'neutral':\n",
        "        texts.append(i['text'])\n",
        "        sentiments.append(i['sentiment'])"
      ],
      "execution_count": 17,
      "outputs": []
    },
    {
      "cell_type": "markdown",
      "metadata": {
        "id": "fIheFoBQYszD"
      },
      "source": [
        "simple ngram model "
      ]
    },
    {
      "cell_type": "code",
      "metadata": {
        "id": "gYjFNV_Jo81G"
      },
      "source": [
        "cv = CountVectorizer(texts, tokenizer=custome_tokenizer, vocabulary=vocabulary)\n",
        "count_vector = cv.transform(texts)"
      ],
      "execution_count": null,
      "outputs": []
    },
    {
      "cell_type": "code",
      "metadata": {
        "id": "Ov826cfrBJbf"
      },
      "source": [
        "count_vector = count_vector.toarray()"
      ],
      "execution_count": null,
      "outputs": []
    },
    {
      "cell_type": "markdown",
      "metadata": {
        "id": "-1qrSaUMY2Kg"
      },
      "source": [
        "simple discrimator"
      ]
    },
    {
      "cell_type": "code",
      "metadata": {
        "id": "YOOP6Ep-AkHn"
      },
      "source": [
        "def simple_uniform_prediction(count_vector, pos_num=3341):\n",
        "    pred = []\n",
        "    for i in range(count_vector.shape[0]):\n",
        "        num_pos_token = np.sum(count_vector[i, 0:3341])\n",
        "        num_neg_token = np.sum(count_vector[i, 3341:-1])\n",
        "        if num_pos_token > num_neg_token :\n",
        "            pred.append('positive')\n",
        "        elif num_pos_token < num_neg_token:\n",
        "            pred.append('negative')\n",
        "        else:\n",
        "            pred.append(choice(['negative', 'positive']))\n",
        "    return pred\n",
        "simple_uniform_prediction(count_vector"
      ],
      "execution_count": null,
      "outputs": []
    },
    {
      "cell_type": "markdown",
      "metadata": {
        "id": "7NMsiZ_sY5pS"
      },
      "source": [
        "result of simple discriminator"
      ]
    },
    {
      "cell_type": "code",
      "metadata": {
        "colab": {
          "base_uri": "https://localhost:8080/"
        },
        "id": "vbLPmJNAD7UZ",
        "outputId": "845a8915-e3e8-4fe4-da25-011ba93b8445"
      },
      "source": [
        "num_true_pred = 0\n",
        "num_all =0\n",
        "for i in range(len(sentiments)):\n",
        "    sent = sentiments[i]\n",
        "    if sent == 'positive':\n",
        "        if pred[i] == 'positive':\n",
        "            num_true_pred += 1\n",
        "        num_all += 1\n",
        "    elif sent == 'negative':\n",
        "        if pred[i] == 'negative':\n",
        "            num_true_pred += 1\n",
        "        num_all += 1\n",
        "    else:\n",
        "        pass\n",
        "        #if pred[i] == 'neitral':\n",
        "        #    num_true_pred += 1\n",
        "        #num_all += 1\n",
        "num_true_pred / num_all"
      ],
      "execution_count": null,
      "outputs": [
        {
          "output_type": "execute_result",
          "data": {
            "text/plain": [
              "0.7625916292267676"
            ]
          },
          "metadata": {
            "tags": []
          },
          "execution_count": 123
        }
      ]
    },
    {
      "cell_type": "code",
      "metadata": {
        "colab": {
          "base_uri": "https://localhost:8080/"
        },
        "id": "7tjlRyaQqAEM",
        "outputId": "e27cba62-2da7-4395-aab2-37f802fb9d8c"
      },
      "source": [
        "print(classification_report(sentiments, pred))"
      ],
      "execution_count": null,
      "outputs": [
        {
          "output_type": "stream",
          "text": [
            "              precision    recall  f1-score   support\n",
            "\n",
            "    negative       0.65      0.65      0.65      1434\n",
            "    positive       0.82      0.82      0.82      2795\n",
            "\n",
            "    accuracy                           0.76      4229\n",
            "   macro avg       0.74      0.74      0.74      4229\n",
            "weighted avg       0.76      0.76      0.76      4229\n",
            "\n"
          ],
          "name": "stdout"
        }
      ]
    },
    {
      "cell_type": "markdown",
      "metadata": {
        "id": "CCeL9efJZA4F"
      },
      "source": [
        "Logistic regression model"
      ]
    },
    {
      "cell_type": "code",
      "metadata": {
        "id": "YjuB7WRb8x-9"
      },
      "source": [
        "X = []\n",
        "y = []\n",
        "for i in range(len(sentiments)):\n",
        "    sent = sentiments[i]\n",
        "    if sent == 'positive':\n",
        "        y.append(1.0)\n",
        "        X.append(count_vector[i])\n",
        "    elif sent == 'negative':\n",
        "        y.append(0.0)\n",
        "        X.append(count_vector[i])\n",
        "    else:\n",
        "        pass\n",
        "X = np.array(X)\n",
        "y = np.array(y)\n",
        "X_train, X_val, y_train, y_val = train_test_split(X, y, train_size = 0.80, random_state=7)"
      ],
      "execution_count": null,
      "outputs": []
    },
    {
      "cell_type": "code",
      "metadata": {
        "colab": {
          "base_uri": "https://localhost:8080/"
        },
        "id": "dKTz2KkippWH",
        "outputId": "2b5610c9-68c7-4f46-b68c-b0867be6599d"
      },
      "source": [
        "logit = LogisticRegression(n_jobs=-1, random_state=7)\n",
        "logit.fit(X_train, y_train)\n",
        "print(classification_report(y_train, logit.predict(X_train)))\n",
        "print(classification_report(y_val, logit.predict(X_val)))"
      ],
      "execution_count": null,
      "outputs": [
        {
          "output_type": "stream",
          "text": [
            "              precision    recall  f1-score   support\n",
            "\n",
            "         0.0       0.99      0.91      0.95      1179\n",
            "         1.0       0.95      0.99      0.97      2204\n",
            "\n",
            "    accuracy                           0.96      3383\n",
            "   macro avg       0.97      0.95      0.96      3383\n",
            "weighted avg       0.97      0.96      0.96      3383\n",
            "\n",
            "              precision    recall  f1-score   support\n",
            "\n",
            "         0.0       0.86      0.79      0.82       255\n",
            "         1.0       0.91      0.95      0.93       591\n",
            "\n",
            "    accuracy                           0.90       846\n",
            "   macro avg       0.89      0.87      0.88       846\n",
            "weighted avg       0.90      0.90      0.90       846\n",
            "\n"
          ],
          "name": "stdout"
        }
      ]
    },
    {
      "cell_type": "code",
      "metadata": {
        "colab": {
          "base_uri": "https://localhost:8080/",
          "height": 670
        },
        "id": "W8-abU1mqhcR",
        "outputId": "b420b8fc-f08a-4779-ce89-80a330b823d0"
      },
      "source": [
        "def visualize_coefficients(classifier, feature_names, n_top_features=25):\n",
        "# get coefficients with large absolute values \n",
        "    coef = classifier.coef_.ravel()\n",
        "    positive_coefficients = np.argsort(coef)[-n_top_features:]\n",
        "    negative_coefficients = np.argsort(coef)[:n_top_features]\n",
        "    interesting_coefficients = np.hstack([negative_coefficients, positive_coefficients])\n",
        "# plot them\n",
        "    plt.figure(figsize=(30, 10))\n",
        "    colors = [\"red\" if c < 0 else \"blue\" for c in coef[interesting_coefficients]]\n",
        "    plt.bar(np.arange(2 * n_top_features), coef[interesting_coefficients], color=colors)\n",
        "    feature_names = np.array(feature_names)\n",
        "    plt.xticks(np.arange(1, 1 + 2 * n_top_features), feature_names[interesting_coefficients], rotation=60, ha=\"right\");\n",
        "\n",
        "visualize_coefficients(logit, list(vocabulary.keys()))"
      ],
      "execution_count": null,
      "outputs": [
        {
          "output_type": "display_data",
          "data": {
            "image/png": "[encoded data removed]",
            "text/plain": [
              "<Figure size 2160x720 with 1 Axes>"
            ]
          },
          "metadata": {
            "tags": [],
            "needs_background": "light"
          }
        }
      ]
    },
    {
      "cell_type": "markdown",
      "metadata": {
        "id": "Wt1pLDy5Ms4p"
      },
      "source": [
        "result with "
      ]
    },
    {
      "cell_type": "code",
      "metadata": {
        "id": "TZEt82nhMrl1",
        "colab": {
          "base_uri": "https://localhost:8080/"
        },
        "outputId": "a9df7aeb-d5ab-4f35-f4a2-0ee5c1199953"
      },
      "source": [
        "history = []\n",
        "for m in [1,2,3]:\n",
        "    for n in [1,2,3,4]:\n",
        "        custome_tokenizer = partial(m_skip_n_gramm_tokenizer, n=n, m=m, stopwords_ru = stopwords.words(\"russian\"))\n",
        "        cv = CountVectorizer(texts, tokenizer=custome_tokenizer, vocabulary=vocabulary)\n",
        "        count_vector = cv.transform(texts)\n",
        "        count_vector = count_vector.toarray()\n",
        "        X = []\n",
        "        y = []\n",
        "        for i in range(len(sentiments)):\n",
        "            sent = sentiments[i]\n",
        "            if sent == 'positive':\n",
        "                y.append(1.0)\n",
        "                X.append(count_vector[i])\n",
        "            elif sent == 'negative':\n",
        "                y.append(0.0)\n",
        "                X.append(count_vector[i])\n",
        "            else:\n",
        "                pass\n",
        "        X = np.array(X)\n",
        "        y = np.array(y)\n",
        "        X_train, X_val, y_train, y_val = train_test_split(X, y, train_size = 0.80,)\n",
        "        logit = LogisticRegression(n_jobs=-1, random_state=7)\n",
        "        logit.fit(X_train, y_train)\n",
        "        score = logit.score(X_val, y_val)\n",
        "        print('n: ', n, 'm: ', m, 'score: ', score)\n",
        "        history.append({'n':n,'m':m, 'score':score})"
      ],
      "execution_count": 158,
      "outputs": [
        {
          "output_type": "stream",
          "text": [
            "n:  1 m:  1 score:  0.8829787234042553\n",
            "n:  2 m:  1 score:  0.8865248226950354\n",
            "n:  3 m:  1 score:  0.8770685579196218\n",
            "n:  4 m:  1 score:  0.8735224586288416\n",
            "n:  1 m:  2 score:  0.875886524822695\n",
            "n:  2 m:  2 score:  0.875886524822695\n",
            "n:  3 m:  2 score:  0.875886524822695\n",
            "n:  4 m:  2 score:  0.8770685579196218\n",
            "n:  1 m:  3 score:  0.8947990543735225\n",
            "n:  2 m:  3 score:  0.892434988179669\n",
            "n:  3 m:  3 score:  0.8640661938534279\n",
            "n:  4 m:  3 score:  0.8900709219858156\n"
          ],
          "name": "stdout"
        }
      ]
    },
    {
      "cell_type": "code",
      "metadata": {
        "id": "kPtFPq5YKATl"
      },
      "source": [
        "def m_skip_n_gramm_tokenizer(doc, m, n, stopwords_ru):\n",
        "    morph = MorphAnalyzer()\n",
        "    patterns = \"[A-Za-z0-9!#$%&'()*+,./:;<=>?@[\\]^_`{|}~—\\\"\\-]+\"\n",
        "    doc = re.sub(patterns, ' ', doc)\n",
        "    tokens = []\n",
        "    for token in doc.split():\n",
        "        if token and token not in stopwords_ru:\n",
        "            token = token.strip()\n",
        "            token = morph.normal_forms(token)[0]\n",
        "            \n",
        "            tokens.append(token)\n",
        "    ngrams = tokens.copy()\n",
        "    if n > 1:\n",
        "        for i in range(2, n+1):\n",
        "            skipgrams_tokens = [' '.join(i) for i in list(skipgrams(tokens, i, m))]\n",
        "            ngrams += skipgrams_tokens\n",
        "    return ngrams"
      ],
      "execution_count": 202,
      "outputs": []
    },
    {
      "cell_type": "code",
      "metadata": {
        "colab": {
          "base_uri": "https://localhost:8080/"
        },
        "id": "OOg_eeZEWTWE",
        "outputId": "61dfae66-b40b-4c4c-b371-b44e8b3f0fe9"
      },
      "source": [
        "history = []\n",
        "for m in [1,2,3]:\n",
        "    for n in [1,2,3,4]:\n",
        "        custome_tokenizer1 = partial(m_skip_n_gramm_tokenizer, n=n, m=m, stopwords_ru = stopwords.words(\"russian\"))\n",
        "        cv = CountVectorizer(texts, tokenizer=custome_tokenizer1, vocabulary=vocabulary)\n",
        "        count_vector = cv.transform(texts)\n",
        "        count_vector = count_vector.toarray()\n",
        "        X = []\n",
        "        y = []\n",
        "        for i in range(len(sentiments)):\n",
        "            sent = sentiments[i]\n",
        "            if sent == 'positive':\n",
        "                y.append(1.0)\n",
        "                X.append(count_vector[i])\n",
        "            elif sent == 'negative':\n",
        "                y.append(0.0)\n",
        "                X.append(count_vector[i])\n",
        "            else:\n",
        "                pass\n",
        "        X = np.array(X)\n",
        "        y = np.array(y)\n",
        "        X_train, X_val, y_train, y_val = train_test_split(X, y, train_size = 0.80)\n",
        "        logit = LogisticRegression(n_jobs=-1, random_state=7)\n",
        "        logit.fit(X_train, y_train)\n",
        "        score = logit.score(X_val, y_val)\n",
        "        print('n: ', n, 'm: ', m, 'score: ', score)\n",
        "        history.append({'n':n,'m':m, 'score':score})"
      ],
      "execution_count": 207,
      "outputs": [
        {
          "output_type": "stream",
          "text": [
            "n:  1 m:  1 score:  0.8794326241134752\n",
            "n:  2 m:  1 score:  0.8817966903073287\n",
            "n:  3 m:  1 score:  0.8687943262411347\n",
            "n:  4 m:  1 score:  0.892434988179669\n",
            "n:  1 m:  2 score:  0.8770685579196218\n",
            "n:  2 m:  2 score:  0.8782505910165485\n",
            "n:  3 m:  2 score:  0.8853427895981087\n",
            "n:  4 m:  2 score:  0.8900709219858156\n",
            "n:  1 m:  3 score:  0.8829787234042553\n",
            "n:  2 m:  3 score:  0.8711583924349882\n",
            "n:  3 m:  3 score:  0.8806146572104019\n",
            "n:  4 m:  3 score:  0.8971631205673759\n"
          ],
          "name": "stdout"
        }
      ]
    },
    {
      "cell_type": "markdown",
      "metadata": {
        "id": "jHa_8OZ4EE62"
      },
      "source": [
        "result with stop word"
      ]
    },
    {
      "cell_type": "code",
      "metadata": {
        "colab": {
          "base_uri": "https://localhost:8080/"
        },
        "id": "MWN97ZnCEFbU",
        "outputId": "07d713e6-feda-4faa-b155-2de1b908d553"
      },
      "source": [
        "        m, n = 3, 4\n",
        "        custome_tokenizer1 = partial(m_skip_n_gramm_tokenizer, n=n, m=m, stopwords_ru =[])\n",
        "        cv = CountVectorizer(texts, tokenizer=custome_tokenizer1, vocabulary=vocabulary)\n",
        "        count_vector = cv.transform(texts)\n",
        "        count_vector = count_vector.toarray()\n",
        "        X = []\n",
        "        y = []\n",
        "        for i in range(len(sentiments)):\n",
        "            sent = sentiments[i]\n",
        "            if sent == 'positive':\n",
        "                y.append(1.0)\n",
        "                X.append(count_vector[i])\n",
        "            elif sent == 'negative':\n",
        "                y.append(0.0)\n",
        "                X.append(count_vector[i])\n",
        "            else:\n",
        "                pass\n",
        "        X = np.array(X)\n",
        "        y = np.array(y)\n",
        "        X_train, X_val, y_train, y_val = train_test_split(X, y, train_size = 0.80)\n",
        "        logit = LogisticRegression(n_jobs=-1, random_state=7)\n",
        "        logit.fit(X_train, y_train)\n",
        "        score = logit.score(X_val, y_val)\n",
        "        print('n: ', n, 'm: ', m, 'score: ', score)\n",
        "        history.append({'n':n,'m':m, 'score':score})"
      ],
      "execution_count": 213,
      "outputs": [
        {
          "output_type": "stream",
          "text": [
            "n:  4 m:  3 score:  0.8888888888888888\n"
          ],
          "name": "stdout"
        }
      ]
    },
    {
      "cell_type": "markdown",
      "metadata": {
        "id": "1I9fFGrRmYb4"
      },
      "source": [
        "Lemmantize dictianry and eval with this vocabulary"
      ]
    },
    {
      "cell_type": "code",
      "metadata": {
        "id": "zsUo2daGZnqe"
      },
      "source": [
        "index = 0\n",
        "vocabulary = {}\n",
        "morph = MorphAnalyzer()\n",
        "for token in pos_token:\n",
        "    tokens = []\n",
        "    for i in token:\n",
        "        tokens.append(morph.normal_forms(i)[0])\n",
        "    if ' '.join(tokens) not in list(vocabulary.keys()):\n",
        "        vocabulary[' '.join(tokens)] = index\n",
        "        index += 1\n",
        "for token in neg_token:\n",
        "    tokens = []\n",
        "    for i in token:\n",
        "        tokens.append(morph.normal_forms(i)[0])\n",
        "    if ' '.join(tokens) not in list(vocabulary.keys()):\n",
        "        vocabulary[' '.join(tokens)] = index\n",
        "        index += 1"
      ],
      "execution_count": 50,
      "outputs": []
    },
    {
      "cell_type": "code",
      "metadata": {
        "id": "OCU8XaaxbPvw"
      },
      "source": [
        "        m, n = 3, 4\n",
        "        custome_tokenizer1 = partial(m_skip_n_gramm_tokenizer, n=n, m=m, stopwords_ru =[])\n",
        "        cv = CountVectorizer(texts, tokenizer=custome_tokenizer1, vocabulary=vocabulary)\n",
        "        count_vector = cv.transform(texts)\n",
        "        count_vector = count_vector.toarray()\n",
        "        X = []\n",
        "        y = []\n",
        "        for i in range(len(sentiments)):\n",
        "            sent = sentiments[i]\n",
        "            if sent == 'positive':\n",
        "                y.append(1.0)\n",
        "                X.append(count_vector[i])\n",
        "            elif sent == 'negative':\n",
        "                y.append(0.0)\n",
        "                X.append(count_vector[i])\n",
        "            else:\n",
        "                pass\n",
        "        X = np.array(X)\n",
        "        y = np.array(y)\n",
        "        X_train, X_val, y_train, y_val = train_test_split(X, y, train_size = 0.80)\n",
        "        logit = LogisticRegression(n_jobs=-1, random_state=7)\n",
        "        logit.fit(X_train, y_train)\n",
        "        score = logit.score(X_val, y_val)\n",
        "        print('n: ', n, 'm: ', m, 'score: ', score)"
      ],
      "execution_count": null,
      "outputs": []
    },
    {
      "cell_type": "code",
      "metadata": {
        "colab": {
          "base_uri": "https://localhost:8080/"
        },
        "id": "7_KN7rtjvqSc",
        "outputId": "ee93771a-0092-4da9-df6b-8202f26f163e"
      },
      "source": [
        "print('n: ', n, 'm: ', m, 'score: ', score)"
      ],
      "execution_count": 52,
      "outputs": [
        {
          "output_type": "stream",
          "text": [
            "n:  4 m:  3 score:  0.8841607565011821\n"
          ],
          "name": "stdout"
        }
      ]
    }
  ]
}